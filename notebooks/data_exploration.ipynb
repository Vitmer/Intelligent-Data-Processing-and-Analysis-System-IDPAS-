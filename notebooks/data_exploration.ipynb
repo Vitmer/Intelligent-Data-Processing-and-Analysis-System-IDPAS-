{
 "cells": [
  {
   "cell_type": "code",
   "execution_count": null,
   "metadata": {
    "vscode": {
     "languageId": "plaintext"
    }
   },
   "outputs": [],
   "source": [
    "# Import necessary libraries\n",
    "import pandas as pd\n",
    "import seaborn as sns\n",
    "import matplotlib.pyplot as plt\n",
    "\n",
    "# Load the dataset\n",
    "data = pd.read_csv('data/iris.csv', header=None, names=['sepal_length', 'sepal_width', 'petal_length', 'petal_width', 'class'])\n",
    "\n",
    "# Display the first few rows of the dataset\n",
    "print(data.head())\n",
    "\n",
    "# Get basic statistics\n",
    "print(data.describe())\n",
    "\n",
    "# Visualize the distribution of classes\n",
    "sns.countplot(x='class', data=data)\n",
    "plt.title('Distribution of Classes')\n",
    "plt.show()\n",
    "\n",
    "# Visualize pairwise relationships\n",
    "sns.pairplot(data, hue='class')\n",
    "plt.show()"
   ]
  }
 ],
 "metadata": {
  "language_info": {
   "name": "python"
  }
 },
 "nbformat": 4,
 "nbformat_minor": 2
}
